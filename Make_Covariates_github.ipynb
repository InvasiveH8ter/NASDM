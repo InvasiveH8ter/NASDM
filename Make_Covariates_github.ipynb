{
 "cells": [
  {
   "cell_type": "code",
   "execution_count": 1,
   "metadata": {},
   "outputs": [],
   "source": [
    "import ee\n",
    "import pandas as pd"
   ]
  },
  {
   "cell_type": "code",
   "execution_count": 2,
   "metadata": {},
   "outputs": [
    {
     "data": {
      "text/plain": [
       "True"
      ]
     },
     "execution_count": 2,
     "metadata": {},
     "output_type": "execute_result"
    }
   ],
   "source": [
    "ee.Authenticate()"
   ]
  },
  {
   "cell_type": "code",
   "execution_count": 3,
   "metadata": {},
   "outputs": [],
   "source": [
    "ee.Initialize(project='ee-Your-Cloud-Project') # your GEE cloud project"
   ]
  },
  {
   "cell_type": "code",
   "execution_count": 13,
   "metadata": {
    "hidden": true
   },
   "outputs": [],
   "source": [
    "## Configure the temporal and spatial settings for your taxa.\n",
    "state_abbrev = 'MN' # 2-digit postal abbreviation\n",
    "start_year = 2004 \n",
    "end_year = 2022 \n",
    "description = 'covariate' # this is the name displayed on the task tab in GEE developer dashboard\n",
    "assetId = 'projects/ee-Your-Cloud-Project/assets/covariates_' # GEE path and name for where to store your yearly covariate rasters."
   ]
  },
  {
   "cell_type": "code",
   "execution_count": 14,
   "metadata": {},
   "outputs": [],
   "source": [
    "#Build Big Raster Image\n",
    "## Import assets\n",
    "\n",
    "# Import State Collection\n",
    "states = ee.FeatureCollection(\"TIGER/2016/States\")\n",
    "\n",
    "my_state = states.filter(ee.Filter.eq('STUSPS', state_abbrev)).geometry()\n",
    "\n",
    "# MODIS Mission\n",
    "modusGlobal = ee.ImageCollection(\"MODIS/061/MYD11A2\")\n",
    "\n",
    "# Primary Productivity\n",
    "GPP = ee.ImageCollection(\"UMT/NTSG/v2/LANDSAT/GPP\")\n",
    "\n",
    "# Surface water\n",
    "pikelSurfaceWater = ee.Image(\"JRC/GSW1_1/GlobalSurfaceWater\")\n",
    "\n",
    "# Elevation\n",
    "DEM = ee.Image(\"USGS/NED\")\n",
    "\n",
    "# Enhanced Vegetation Index and NDVI\n",
    "modusVeg = ee.ImageCollection(\"MODIS/061/MYD13A2\")\n",
    "\n",
    "# Heat Isolation Load\n",
    "CHILI = ee.Image(\"CSP/ERGo/1_0/Global/SRTM_CHILI\")\n",
    "\n",
    "# Topographic Diversity\n",
    "topoDiversity = ee.Image(\"CSP/ERGo/1_0/Global/ALOS_topoDiversity\")\n",
    "\n",
    "# Human Modification index\n",
    "gHM = ee.ImageCollection(\"CSP/HM/GlobalHumanModification\")\n",
    "\n",
    "# Climate information\n",
    "NLDAS = ee.ImageCollection(\"NASA/NLDAS/FORA0125_H002\")\n",
    "\n",
    "# Dynamic Surface Water metric\n",
    "pekel_monthly_water = ee.ImageCollection(\"JRC/GSW1_4/MonthlyHistory\")\n",
    "\n",
    "# Static surface water metric\n",
    "pekel_static_water = ee.ImageCollection('JRC/GSW1_4/MonthlyRecurrence')\n"
   ]
  },
  {
   "cell_type": "code",
   "execution_count": 15,
   "metadata": {
    "hidden": true,
    "scrolled": true
   },
   "outputs": [],
   "source": [
    "## Select features, etc\n",
    "#========================================================\n",
    "#Rename Bands and select bands, etc\n",
    "#========================================================\n",
    "NLDAS_precip = NLDAS.select(\"total_precipitation\");\n",
    "NLDAS_temp = NLDAS.select(\"temperature\");\n",
    "NLDAS_humid = NLDAS.select(\"specific_humidity\");\n",
    "NLDAS_potEvap = NLDAS.select(\"potential_evaporation\");\n",
    "\n",
    "\n",
    "CHILI = CHILI.rename(['Heat_Insolation_Load'])\n",
    "srtmChili = CHILI.select('Heat_Insolation_Load');\n",
    "topoDiversity = topoDiversity.rename([\"Topographic_Diversity\"])\n",
    "topoDiv = topoDiversity.select(\"Topographic_Diversity\")\n",
    "footprint = ee.Image(gHM.first().select(\"gHM\"));\n",
    "\n",
    "# Surface water occurrence\n",
    "sw_occurrence = pekel_static_water\\\n",
    "                      .select('monthly_recurrence')\\\n",
    "                      .mean()\\\n",
    "                      .rename(['SurfaceWaterOccurrence'])\\\n",
    "                      .unmask()\n"
   ]
  },
  {
   "cell_type": "code",
   "execution_count": null,
   "metadata": {},
   "outputs": [],
   "source": [
    "# Note: This is where you can import additional timeseries environmental datasets follow this example\n",
    "# This example is for a MODIS dataset.  Quality filtering is similar for Landsat and other datasets, but check dataset documentation for specifics\n",
    "# Import GEE Asset & select band\n",
    "# modis_ndsi = ee.ImageCollection(\"MODIS/061/MYD10A1\")\n",
    "\n",
    "# Filter to only first 90 days of the year\n",
    "# Set Juliam Day timeframe if you only want mean for certain months. Here we are using a metric for snow cover so we chose days from Jan through Mar.\n",
    "# modis_ndsi_0_90 = modis_ndsi.filter(ee.Filter.dayOfYear(0,90))\n",
    "\n",
    "# Bitwise QC for MODIS to remove low quality and cloud-masked pixels from time series\n",
    "# def modis_cloudMask (image):\n",
    "#  quality = image.select(\"NDSI_Snow_Cover_Basic_QA\");\n",
    "#  clear = quality.bitwiseAnd(3).eq(0) \\\n",
    "#  .And(quality.bitwiseAnd(12).eq(0)) \n",
    "#  return image.mask(clear);\n",
    "   \n",
    "# NDSI_QC = modis_ndsi_0_90.map(modis_cloudMask).select(\"NDSI_Snow_Cover\")"
   ]
  },
  {
   "cell_type": "code",
   "execution_count": null,
   "metadata": {},
   "outputs": [],
   "source": [
    "# You can add static parameters from GEE by importing the asset and adding the band to the combined image below.\n",
    "# bathymetry = ee.Image(\"projects/sat-io/open-datasets/GLOBathy/GLOBathy_bathymetry\")"
   ]
  },
  {
   "cell_type": "code",
   "execution_count": null,
   "metadata": {},
   "outputs": [],
   "source": [
    "# my_local_data = ('C:/YourPath.TIF')\n",
    "# cloud_image = ee.Image.loadGeoTIFF(my_local_data)"
   ]
  },
  {
   "cell_type": "code",
   "execution_count": 16,
   "metadata": {
    "hidden": true
   },
   "outputs": [],
   "source": [
    "## Mask features by quality control bands\n",
    "# ========================================================\n",
    "# Masking TPP via quality control bands\n",
    "# ========================================================\n",
    "def gpp_qc(img):\n",
    "    img2 = img.rename(['GPP','QC']);\n",
    "    quality = img2.select(\"QC\")\n",
    "    mask = quality.neq(11) \\\n",
    "                .And(quality.neq(10)) \\\n",
    "                .And(quality.neq(20)) \\\n",
    "                .And(quality.neq(21)) \n",
    "    return img2.mask(mask)\n",
    "\n",
    "GPP_QC = GPP.map(gpp_qc);\n",
    "\n",
    "# ========================================================\n",
    "# Masking LST via quality control bands\n",
    "# ========================================================\n",
    "def lst_qc(img):\n",
    "    quality = img.select(\"QC_Day\")\n",
    "    mask = quality.bitwiseAnd(3).eq(0) \\\n",
    "                .And(quality.bitwiseAnd(12).eq(0))\n",
    "    return img.mask(mask)\n",
    "\n",
    "LST = modusGlobal.map(lst_qc) \\\n",
    "                 .select(\"LST_Day_1km\");\n",
    "\n",
    "        \n",
    "# ========================================================\n",
    "# Mask Modus Vegetation Indices by quality flag\n",
    "# ========================================================\n",
    "def modusQC(image):\n",
    "    quality = image.select(\"SummaryQA\")\n",
    "    mask = quality.eq(0)\n",
    "    return image.updateMask(mask)\n",
    "\n",
    "modusVeg_QC = modusVeg.map(modusQC)\n",
    "EVI = modusVeg_QC.select(\"EVI\")\n",
    "NDVI = modusVeg_QC.select(\"NDVI\")"
   ]
  },
  {
   "cell_type": "code",
   "execution_count": 17,
   "metadata": {
    "hidden": true
   },
   "outputs": [],
   "source": [
    "## Define date lists to iterate over\n",
    "#========================================================\n",
    "ee_dates = ee.List([\n",
    "ee.Date('2003-01-01'),ee.Date('2004-01-01'),\n",
    "ee.Date('2005-01-01'),ee.Date('2006-01-01'),\n",
    "ee.Date('2007-01-01'),ee.Date('2008-01-01'),\n",
    "ee.Date('2009-01-01'),ee.Date('2010-01-01'),\n",
    "ee.Date('2011-01-01'),ee.Date('2012-01-01'),\n",
    "ee.Date('2013-01-01'),ee.Date('2014-01-01'),\n",
    "ee.Date('2015-01-01'),ee.Date('2016-01-01'),\n",
    "ee.Date('2017-01-01'),ee.Date('2018-01-01'),\n",
    "ee.Date('2019-01-01'),ee.Date('2020-01-01'),\n",
    "ee.Date('2021-01-01'),ee.Date('2022-01-01')])"
   ]
  },
  {
   "cell_type": "code",
   "execution_count": 18,
   "metadata": {
    "hidden": true
   },
   "outputs": [],
   "source": [
    "## Annual Cube function\n",
    "#========================================================\n",
    "# \"Builder Function\" -- processes each annual variable into a list of images\n",
    "#========================================================\n",
    "\n",
    "def build_annual_cube(d):\n",
    "    # Set start and end dates for filtering time dependent predictors (SR, NDVI, Phenology)\n",
    "      # Advance startDate by 1 to begin with to account for water year (below)\n",
    "    startDate = (ee.Date(d)).millis()\n",
    "    endDate = (ee.Date(d).advance(1.0,'year')).millis()\n",
    "\n",
    "  #========================================================\n",
    "  #Define function to compute seasonal information for a given variable\n",
    "  #========================================================\n",
    "    def add_seasonal_info(imgCol,name,bandName):\n",
    "        winter = imgCol.filterDate(winter_start,winter_end)\n",
    "        spring = imgCol.filterDate(spring_start,spring_end)\n",
    "        summer = imgCol.filterDate(summer_start,summer_end)\n",
    "        fall = imgCol.filterDate(fall_start,fall_end)\n",
    "\n",
    "        winter_tot = winter.sum()\n",
    "        spring_tot = spring.sum()\n",
    "        summer_tot = summer.sum()\n",
    "        fall_tot = fall.sum()\n",
    "\n",
    "        winter_max = winter.max()\n",
    "        winter_min = winter.min()\n",
    "        spring_max = spring.max()\n",
    "        spring_min = spring.min()\n",
    "        summer_max = summer.max()\n",
    "        summer_min = summer.min()\n",
    "        fall_max = fall.max()\n",
    "        fall_min = fall.min()\n",
    "\n",
    "        winter_diff = winter_max.subtract(winter_min)\n",
    "        spring_diff = spring_max.subtract(spring_min)\n",
    "        summer_diff = summer_max.subtract(summer_min)\n",
    "        fall_diff = fall_max.subtract(fall_min)\n",
    "\n",
    "        names = ['winter_total'+name,'spring_total'+name,'summer_total'+name,\n",
    "                      'fall_total'+name]\n",
    "\n",
    "        return winter_tot.addBands([spring_tot,summer_tot,fall_tot]) \\\n",
    "                         .rename(names)\n",
    "\n",
    "  # Set up Seasonal dates for precip, seasonal predictors\n",
    "    winter_start = ee.Date(startDate)\n",
    "    winter_end = ee.Date(startDate).advance(3,'month')\n",
    "    spring_start = ee.Date(startDate).advance(3,'month')\n",
    "    spring_end = ee.Date(startDate).advance(6,'month')\n",
    "    summer_start = ee.Date(startDate).advance(6,'month')\n",
    "    summer_end = ee.Date(startDate).advance(9,'month')\n",
    "    fall_start = ee.Date(startDate).advance(9,'month')\n",
    "    fall_end = ee.Date(endDate)\n",
    "\n",
    "  # Aggregate seasonal info for each variable of interest (potEvap neglected purposefully)\n",
    "    seasonal_precip = add_seasonal_info(NLDAS_precip,\"Precip\",\"total_precipitation\")\n",
    "    seasonal_temp = add_seasonal_info(NLDAS_temp,\"Temp\",\"temperature\")\n",
    "    seasonal_humid = add_seasonal_info(NLDAS_humid,\"Humidity\",\"specific_humidity\")\n",
    "    waterYear_start = ee.Date(startDate)\n",
    "    waterYear_end = waterYear_start.advance(1,'year')\n",
    "\n",
    "  #========================================================\n",
    "  # Aggregate Other Covariates\n",
    "  #========================================================\n",
    "\n",
    "  # Filter Precip by water year to get total precip annually\n",
    "\n",
    "    waterYearTot = NLDAS_precip.filterDate(waterYear_start,waterYear_end) \\\n",
    "                                 .sum()\n",
    "\n",
    "  # Find mean EVI per year:\n",
    "    maxEVI = EVI.filterDate(startDate,endDate) \\\n",
    "                  .max() \\\n",
    "                  .rename(['Max_EVI'])\n",
    "\n",
    "  #Find mean NDVI per year:\n",
    "    maxNDVI = NDVI.filterDate(startDate,endDate) \\\n",
    "                    .max() \\\n",
    "                    .rename([\"Max_NDVI\"])\n",
    "\n",
    "  # Find flashiness per year by taking a Per-pixel Standard Deviation:\n",
    "    flashiness_yearly = ee.Image(pekel_monthly_water.filterDate(startDate,endDate) \\\n",
    "                                                      .reduce(ee.Reducer.sampleStdDev())) \\\n",
    "                                                      .rename(['Flashiness'])\n",
    "                                                      \n",
    "    \n",
    "\n",
    "  \n",
    "  # Find max LST per year:\n",
    "    maxLST = LST.filterDate(startDate,endDate) \\\n",
    "                      .max() \\\n",
    "                      .rename([\"Max_LST_Annual\"])\n",
    "\n",
    "  # Find mean GPP per year:\n",
    "    meanGPP = GPP_QC.filterDate(startDate,endDate) \\\n",
    "                      .mean() \\\n",
    "                      .rename(['Mean_GPP', 'QC'])\n",
    "\n",
    "\n",
    "\n",
    "\n",
    "  # All banded images that don't change over time  \n",
    "    static_input_bands = sw_occurrence.addBands(DEM.select(\"elevation\")) \\\n",
    "                                          .addBands(srtmChili) \\\n",
    "                                          .addBands(topoDiv) \\\n",
    "                                          .addBands(footprint) \\\n",
    "                                          \n",
    "\n",
    " \n",
    "    banded_image = static_input_bands \\\n",
    "                          .addBands(maxLST) \\\n",
    "                          .addBands(meanGPP) \\\n",
    "                          .addBands(maxNDVI) \\\n",
    "                          .addBands(maxEVI) \\\n",
    "                          .addBands(seasonal_precip) \\\n",
    "                          .addBands(flashiness_yearly) \\\n",
    "                          \n",
    "    \n",
    "    return banded_image.unmask()"
   ]
  },
  {
   "cell_type": "code",
   "execution_count": 19,
   "metadata": {
    "hidden": true
   },
   "outputs": [],
   "source": [
    "#========================================================\n",
    "# Run covariate algorithm and build a list of images\n",
    "# with each image corresponding to each year and each band corresponding to each covariate\n",
    "#========================================================\n",
    "\n",
    "# Image Collection\n",
    "banded_images = ee.ImageCollection(ee_dates.map(build_annual_cube))\n",
    "\n",
    "# List form\n",
    "banded_images_list = ee.List(ee_dates.map(build_annual_cube))"
   ]
  },
  {
   "cell_type": "code",
   "execution_count": null,
   "metadata": {
    "hidden": true
   },
   "outputs": [
    {
     "name": "stdout",
     "output_type": "stream",
     "text": [
      "Starting 2004\n",
      "2004 status:     READY\n",
      "2004 status:     RUNNING\n",
      "2004 status:     RUNNING\n",
      "Starting 2005\n",
      "2005 status:     READY\n",
      "2005 status:     RUNNING\n",
      "2005 status:     RUNNING\n",
      "Starting 2006\n",
      "2006 status:     READY\n",
      "2006 status:     RUNNING\n",
      "2006 status:     RUNNING\n",
      "Starting 2007\n",
      "2007 status:     READY\n"
     ]
    }
   ],
   "source": [
    "import time\n",
    "# List comprehension for getting some years\n",
    "years = [str(y) for y in list(range(start_year, end_year))]\n",
    "\n",
    "# Export each image within the for loop\n",
    "for i,y in zip(range(len(years)), years):\n",
    "    print(\"Starting\", y)\n",
    "    img = ee.Image(ee.List(banded_images_list).get(ee.Number(i)))\n",
    "    export = ee.batch.Export.image.toAsset(image = img,\n",
    "                    description = description +y,\n",
    "                    assetId = assetId + state_abbrev + '_' + y, \n",
    "                    region = ee.Geometry(my_state),\n",
    "                    scale =  1000,\n",
    "                    maxPixels = 1e13)\n",
    "    export.start()\n",
    "    \n",
    "    print(y,\"status:    \", export.status()['state'])\n",
    "\n",
    "    # Wait for 30 seconds so that the export['state'] gives insightful information\n",
    "    time.sleep(15)\n",
    "    print(y,\"status:    \", export.status()['state'])\n",
    "    \n",
    "    \n",
    "    # If this status is \"RUNNING\", then there are no egretious syntax errors. \n",
    "    # However, it is still possible that these export commands fail after more than 30 seconds.\n",
    "    # In that case, it is likely that there is a Computation Time Out Error (remember exporting the annual stacks)\n",
    "    time.sleep(15)\n",
    "    print(y,\"status:    \", export.status()['state'])\n",
    "    "
   ]
  },
  {
   "cell_type": "code",
   "execution_count": null,
   "metadata": {},
   "outputs": [],
   "source": []
  }
 ],
 "metadata": {
  "kernelspec": {
   "display_name": "Python 3 (ipykernel)",
   "language": "python",
   "name": "python3"
  },
  "language_info": {
   "codemirror_mode": {
    "name": "ipython",
    "version": 3
   },
   "file_extension": ".py",
   "mimetype": "text/x-python",
   "name": "python",
   "nbconvert_exporter": "python",
   "pygments_lexer": "ipython3",
   "version": "3.12.2"
  },
  "notify_time": "5",
  "toc": {
   "base_numbering": 1,
   "nav_menu": {},
   "number_sections": true,
   "sideBar": true,
   "skip_h1_title": false,
   "title_cell": "Table of Contents",
   "title_sidebar": "Contents",
   "toc_cell": false,
   "toc_position": {},
   "toc_section_display": true,
   "toc_window_display": true
  },
  "varInspector": {
   "cols": {
    "lenName": 16,
    "lenType": 16,
    "lenVar": 40
   },
   "kernels_config": {
    "python": {
     "delete_cmd_postfix": "",
     "delete_cmd_prefix": "del ",
     "library": "var_list.py",
     "varRefreshCmd": "print(var_dic_list())"
    },
    "r": {
     "delete_cmd_postfix": ") ",
     "delete_cmd_prefix": "rm(",
     "library": "var_list.r",
     "varRefreshCmd": "cat(var_dic_list()) "
    }
   },
   "position": {
    "height": "144.716px",
    "left": "1374.44px",
    "right": "20px",
    "top": "59.9943px",
    "width": "350px"
   },
   "types_to_exclude": [
    "module",
    "function",
    "builtin_function_or_method",
    "instance",
    "_Feature"
   ],
   "window_display": false
  }
 },
 "nbformat": 4,
 "nbformat_minor": 4
}
